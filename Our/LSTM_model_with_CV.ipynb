{
 "cells": [
  {
   "cell_type": "code",
   "execution_count": 4,
   "metadata": {},
   "outputs": [],
   "source": [
    "import numpy as np\n",
    "from sklearn.model_selection import train_test_split\n",
    "import sklearn.metrics as m\n",
    "import matplotlib.pyplot as plt\n",
    "from sklearn.model_selection import StratifiedKFold\n",
    "from sklearn.utils import class_weight"
   ]
  },
  {
   "cell_type": "code",
   "execution_count": 10,
   "metadata": {},
   "outputs": [],
   "source": [
    "from keras.layers import Input, Embedding, LSTM, Dense, Bidirectional, TimeDistributed, concatenate, Flatten, BatchNormalization, Dropout\n",
    "from keras.models import Model\n",
    "import tensorflow as tf\n",
    "from keras import backend as K"
   ]
  },
  {
   "cell_type": "code",
   "execution_count": 6,
   "metadata": {},
   "outputs": [],
   "source": [
    "peptides = np.load('../peptides.npy')\n",
    "mhc = np.load('mhc.npy')\n",
    "labels = np.load('immu.npy')\n",
    "peptides = peptides[:, :, :20]"
   ]
  },
  {
   "cell_type": "code",
   "execution_count": 12,
   "metadata": {},
   "outputs": [],
   "source": [
    "def get_model():\n",
    "    main_input = Input(shape=(11, 20,), name = 'main_input')\n",
    "    side_input = Input(shape=(6,), name = 'side_input')\n",
    "\n",
    "# Main block for peptides.\n",
    "    a = Bidirectional(LSTM(128, return_sequences=True))(main_input)\n",
    "    a = BatchNormalization()(a)\n",
    "    a = Dropout(0.5)(a)\n",
    "    \n",
    "    a = Bidirectional(LSTM(256, return_sequences=True))(a)\n",
    "    a = BatchNormalization()(a)\n",
    "    a = Dropout(0.5)(a)\n",
    "    \n",
    "    a = TimeDistributed(Dense(64))(a)\n",
    "    a = Flatten()(a)\n",
    "    a = Dense(32)(a)\n",
    "    a = BatchNormalization()(a)\n",
    "    a = Dropout(0.5)(a)\n",
    "\n",
    "    b = Dense(6)(side_input)\n",
    "    b = BatchNormalization()(b)\n",
    "    b = Dropout(0.5)(b)\n",
    "    \n",
    "    merged = concatenate([a, b], axis=-1)\n",
    "\n",
    "    c = Dense(64)(merged)\n",
    "\n",
    "    predictions = Dense(1, activation='sigmoid')(c)\n",
    "\n",
    "    model = Model(inputs=[main_input, side_input], outputs=predictions)\n",
    "    model.compile(optimizer='adam',\n",
    "              loss='binary_crossentropy'\n",
    "                 )\n",
    "    return model"
   ]
  },
  {
   "cell_type": "code",
   "execution_count": 13,
   "metadata": {},
   "outputs": [],
   "source": [
    "from sklearn.metrics import roc_auc_score\n",
    "from keras.callbacks import Callback\n",
    "class roc_callback(Callback):\n",
    "    def __init__(self,training_data,validation_data):\n",
    "        self.x = training_data[0]\n",
    "        self.y = training_data[1]\n",
    "        self.x_val = validation_data[0]\n",
    "        self.y_val = validation_data[1]\n",
    "\n",
    "    def on_train_begin(self, logs={}):\n",
    "        return\n",
    "\n",
    "    def on_train_end(self, logs={}):\n",
    "        return\n",
    "\n",
    "    def on_epoch_begin(self, epoch, logs={}):\n",
    "        return\n",
    "\n",
    "    def on_epoch_end(self, epoch, logs={}):\n",
    "        y_pred = self.model.predict(self.x)\n",
    "        roc = roc_auc_score(self.y, y_pred)\n",
    "        y_pred_val = self.model.predict(self.x_val)\n",
    "        roc_val = roc_auc_score(self.y_val, y_pred_val)\n",
    "        print('\\rtrain-AUC: %s - val-AUC: %s' % (str(round(roc,4)),str(round(roc_val,4))),end=100*' '+'\\n')\n",
    "        return\n",
    "\n",
    "    def on_batch_begin(self, batch, logs={}):\n",
    "        return\n",
    "\n",
    "    def on_batch_end(self, batch, logs={}):\n",
    "        return"
   ]
  },
  {
   "cell_type": "code",
   "execution_count": null,
   "metadata": {},
   "outputs": [
    {
     "name": "stdout",
     "output_type": "stream",
     "text": [
      "\n",
      "Fold  0\n",
      "Train on 4235 samples, validate on 471 samples\n",
      "Epoch 1/15\n",
      "4235/4235 [==============================] - 19s 4ms/step - loss: 0.8586 - val_loss: 0.6668\n",
      "train-AUC: 0.6506 - val-AUC: 0.6064                                                                                                    \n",
      "Epoch 2/15\n",
      "4235/4235 [==============================] - 13s 3ms/step - loss: 0.6923 - val_loss: 0.6226\n",
      "train-AUC: 0.6941 - val-AUC: 0.6522                                                                                                    \n",
      "Epoch 3/15\n",
      "2500/4235 [================>.............] - ETA: 5s - loss: 0.6401"
     ]
    }
   ],
   "source": [
    "from sklearn.model_selection import cross_val_score\n",
    "\n",
    "folds = list(StratifiedKFold(n_splits=5, shuffle=True, random_state=1).split(peptides, labels))\n",
    "for j, (train_idx, val_idx) in enumerate(folds):\n",
    "    print('\\nFold ',j)\n",
    "    X_train_cv = [peptides[train_idx], mhc[train_idx]]\n",
    "    y_train_cv = labels[train_idx]\n",
    "    X_valid_cv = [peptides[val_idx], mhc[val_idx]]\n",
    "    y_valid_cv = labels[val_idx]\n",
    "    model = get_model()\n",
    "    class_weights = class_weight.compute_class_weight('balanced',\n",
    "                                                 np.unique(y_train_cv),\n",
    "                                                 y_train_cv.ravel())\n",
    "    model.fit(X_train_cv, y_train_cv, batch_size=500, class_weight=class_weights, validation_split=0.1, epochs=15, callbacks=[roc_callback(training_data=(X_train_cv, y_train_cv),validation_data=(X_valid_cv, y_valid_cv))])\n"
   ]
  },
  {
   "cell_type": "code",
   "execution_count": 25,
   "metadata": {},
   "outputs": [],
   "source": [
    "predictions = model.predict([peptides_test, mhc_test])"
   ]
  },
  {
   "cell_type": "code",
   "execution_count": 32,
   "metadata": {},
   "outputs": [
    {
     "data": {
      "image/png": "[encoded data removed]",
      "text/plain": [
       "<Figure size 432x288 with 1 Axes>"
      ]
     },
     "metadata": {
      "needs_background": "light"
     },
     "output_type": "display_data"
    }
   ],
   "source": [
    "fpr, tpr, threshold = m.roc_curve(y_test, predictions)\n",
    "roc_auc = m.auc(fpr, tpr)\n",
    "plt.title('Receiver Operating Characteristic')\n",
    "plt.plot(fpr, tpr, 'b', label = 'AUC = %0.2f' % roc_auc, color='orange')\n",
    "plt.legend(loc = 'lower right')\n",
    "plt.plot([0, 1], [0, 1],'r--', color='#0000FF')\n",
    "plt.xlim([0, 1])\n",
    "plt.ylim([0, 1])\n",
    "plt.ylabel('True Positive Rate')\n",
    "plt.xlabel('False Positive Rate')\n",
    "plt.show()"
   ]
  },
  {
   "cell_type": "code",
   "execution_count": null,
   "metadata": {},
   "outputs": [],
   "source": []
  }
 ],
 "metadata": {
  "kernelspec": {
   "display_name": "Python 3",
   "language": "python",
   "name": "python3"
  },
  "language_info": {
   "codemirror_mode": {
    "name": "ipython",
    "version": 3
   },
   "file_extension": ".py",
   "mimetype": "text/x-python",
   "name": "python",
   "nbconvert_exporter": "python",
   "pygments_lexer": "ipython3",
   "version": "3.6.8"
  }
 },
 "nbformat": 4,
 "nbformat_minor": 2
}
