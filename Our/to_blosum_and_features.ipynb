{
 "cells": [
  {
   "cell_type": "code",
   "execution_count": 1,
   "metadata": {},
   "outputs": [
    {
     "name": "stdout",
     "output_type": "stream",
     "text": [
      "total 16M\r\n",
      "-rw-r--r-- 1 olszewskip olszewskip  47K cze  8 16:30 affinity.npy\r\n",
      "-rw-r--r-- 1 olszewskip olszewskip  94K cze  8 23:44 Conv1D_model.ipynb\r\n",
      "-rw-r--r-- 1 olszewskip olszewskip 8,7K cze  8 11:47 dicts.py\r\n",
      "-rw-r--r-- 1 olszewskip olszewskip  47K cze  8 13:14 immu.npy\r\n",
      "-rw-r--r-- 1 olszewskip olszewskip  29K cze  8 18:43 LSTM_model_with_CV.ipynb\r\n",
      "-rw-r--r-- 1 olszewskip olszewskip 276K cze  8 13:14 mhc.npy\r\n",
      "-rw-r--r-- 1 olszewskip olszewskip  16M cze  8 13:14 peptides.npy\r\n",
      "drwxr-xr-x 2 olszewskip olszewskip 4,0K cze  8 15:32 __pycache__\r\n",
      "-rw-r--r-- 1 olszewskip olszewskip 4,7K cze  8 15:35 to_blosum_and_features.ipynb\r\n"
     ]
    }
   ],
   "source": [
    "!ls -lh"
   ]
  },
  {
   "cell_type": "code",
   "execution_count": 1,
   "metadata": {},
   "outputs": [],
   "source": [
    "import numpy as np\n",
    "import pandas as pd\n",
    "from dicts import *"
   ]
  },
  {
   "cell_type": "code",
   "execution_count": 3,
   "metadata": {},
   "outputs": [],
   "source": [
    "df = pd.read_csv(\"../real_train.csv\")"
   ]
  },
  {
   "cell_type": "code",
   "execution_count": 4,
   "metadata": {},
   "outputs": [
    {
     "data": {
      "text/html": [
       "<div>\n",
       "<style scoped>\n",
       "    .dataframe tbody tr th:only-of-type {\n",
       "        vertical-align: middle;\n",
       "    }\n",
       "\n",
       "    .dataframe tbody tr th {\n",
       "        vertical-align: top;\n",
       "    }\n",
       "\n",
       "    .dataframe thead th {\n",
       "        text-align: right;\n",
       "    }\n",
       "</style>\n",
       "<table border=\"1\" class=\"dataframe\">\n",
       "  <thead>\n",
       "    <tr style=\"text-align: right;\">\n",
       "      <th></th>\n",
       "      <th>Peptide</th>\n",
       "      <th>MHC</th>\n",
       "      <th>Immunogenicity</th>\n",
       "    </tr>\n",
       "  </thead>\n",
       "  <tbody>\n",
       "    <tr>\n",
       "      <th>0</th>\n",
       "      <td>DSMQYTYKIV</td>\n",
       "      <td>H2-Db</td>\n",
       "      <td>0.0</td>\n",
       "    </tr>\n",
       "    <tr>\n",
       "      <th>1</th>\n",
       "      <td>SLLKYFFVL</td>\n",
       "      <td>H2-Kb</td>\n",
       "      <td>1.0</td>\n",
       "    </tr>\n",
       "    <tr>\n",
       "      <th>2</th>\n",
       "      <td>ILYVPMSLSM</td>\n",
       "      <td>H2-Kb</td>\n",
       "      <td>0.0</td>\n",
       "    </tr>\n",
       "    <tr>\n",
       "      <th>3</th>\n",
       "      <td>NQLLARPFL</td>\n",
       "      <td>H2-Db</td>\n",
       "      <td>0.0</td>\n",
       "    </tr>\n",
       "    <tr>\n",
       "      <th>4</th>\n",
       "      <td>AEMEKEGKI</td>\n",
       "      <td>H2-Kk</td>\n",
       "      <td>1.0</td>\n",
       "    </tr>\n",
       "  </tbody>\n",
       "</table>\n",
       "</div>"
      ],
      "text/plain": [
       "      Peptide    MHC  Immunogenicity\n",
       "0  DSMQYTYKIV  H2-Db             0.0\n",
       "1   SLLKYFFVL  H2-Kb             1.0\n",
       "2  ILYVPMSLSM  H2-Kb             0.0\n",
       "3   NQLLARPFL  H2-Db             0.0\n",
       "4   AEMEKEGKI  H2-Kk             1.0"
      ]
     },
     "execution_count": 4,
     "metadata": {},
     "output_type": "execute_result"
    }
   ],
   "source": [
    "df.head()"
   ]
  },
  {
   "cell_type": "code",
   "execution_count": 5,
   "metadata": {},
   "outputs": [],
   "source": [
    "out = np.zeros((len(df), 11, 31))"
   ]
  },
  {
   "cell_type": "code",
   "execution_count": 6,
   "metadata": {},
   "outputs": [],
   "source": [
    "for peptide_index, peptide in enumerate(df['Peptide']):\n",
    "    for index, value in enumerate(peptide):\n",
    "        out[peptide_index, index, : 20] = blosum_dict[value]\n",
    "        out[peptide_index, index, 20 : ] = features[value]"
   ]
  },
  {
   "cell_type": "code",
   "execution_count": 7,
   "metadata": {},
   "outputs": [],
   "source": [
    "mhc_out = np.zeros((len(df), 6))"
   ]
  },
  {
   "cell_type": "code",
   "execution_count": 8,
   "metadata": {},
   "outputs": [],
   "source": [
    "for index, mhc in enumerate(df['MHC']):\n",
    "    mhc_out[index, :] = mhc_dict[mhc]"
   ]
  },
  {
   "cell_type": "code",
   "execution_count": 9,
   "metadata": {},
   "outputs": [],
   "source": [
    "immu = np.zeros((len(df)))\n",
    "for index, value in enumerate(df['Immunogenicity']):\n",
    "    if value == 1:\n",
    "        immu[index] = 1"
   ]
  },
  {
   "cell_type": "code",
   "execution_count": 26,
   "metadata": {},
   "outputs": [],
   "source": [
    "np.save('peptides', out)\n",
    "np.save('mhc', mhc_out)\n",
    "np.save('immu', immu)"
   ]
  }
 ],
 "metadata": {
  "kernelspec": {
   "display_name": "Python 3",
   "language": "python",
   "name": "python3"
  },
  "language_info": {
   "codemirror_mode": {
    "name": "ipython",
    "version": 3
   },
   "file_extension": ".py",
   "mimetype": "text/x-python",
   "name": "python",
   "nbconvert_exporter": "python",
   "pygments_lexer": "ipython3",
   "version": "3.6.8"
  }
 },
 "nbformat": 4,
 "nbformat_minor": 2
}
