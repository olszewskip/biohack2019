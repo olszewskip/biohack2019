{
 "cells": [
  {
   "cell_type": "code",
   "execution_count": 23,
   "metadata": {},
   "outputs": [],
   "source": [
    "import numpy as np\n",
    "from keras.layers import Input, Conv1D, AveragePooling1D, Embedding, LSTM, Dense, Bidirectional, TimeDistributed, concatenate, Flatten, BatchNormalization\n",
    "from keras.models import Model\n",
    "import tensorflow as tf\n",
    "from keras import backend as K\n",
    "from keras.utils import to_categorical\n",
    "from keras.optimizers import Adam"
   ]
  },
  {
   "cell_type": "code",
   "execution_count": 3,
   "metadata": {},
   "outputs": [],
   "source": [
    "def auc(y_true, y_pred):\n",
    "    auc = tf.metrics.auc(y_true, y_pred)[1]\n",
    "    K.get_session().run(tf.local_variables_initializer())\n",
    "    return auc"
   ]
  },
  {
   "cell_type": "code",
   "execution_count": 4,
   "metadata": {},
   "outputs": [],
   "source": [
    "peptides = np.load('peptides.npy')\n",
    "mhc = np.load('mhc.npy')\n",
    "affinity = np.load('affinity.npy')\n",
    "labels = np.load('immu.npy')"
   ]
  },
  {
   "cell_type": "code",
   "execution_count": 5,
   "metadata": {},
   "outputs": [
    {
     "data": {
      "text/plain": [
       "array([3.05413359e+04, 9.62115031e+01, 1.37826453e+03, ...,\n",
       "       9.38938158e+03, 3.15762121e+04, 1.90331414e+01])"
      ]
     },
     "execution_count": 5,
     "metadata": {},
     "output_type": "execute_result"
    }
   ],
   "source": [
    "affinity"
   ]
  },
  {
   "cell_type": "code",
   "execution_count": 6,
   "metadata": {},
   "outputs": [
    {
     "data": {
      "text/plain": [
       "(5884, 11, 31)"
      ]
     },
     "execution_count": 6,
     "metadata": {},
     "output_type": "execute_result"
    }
   ],
   "source": [
    "peptides.shape"
   ]
  },
  {
   "cell_type": "code",
   "execution_count": 7,
   "metadata": {},
   "outputs": [
    {
     "data": {
      "text/plain": [
       "array([[-4., -2.,  7., ...,  2.,  1.,  0.],\n",
       "       [-2.,  3.,  3., ...,  3.,  0.,  0.],\n",
       "       [ 2.,  3.,  0., ..., -2.,  7.,  0.],\n",
       "       ...,\n",
       "       [-2., -2.,  1., ...,  0.,  0.,  0.],\n",
       "       [-2.,  1., -3., ..., -1.,  7.,  0.],\n",
       "       [ 0., -1.,  0., ...,  2.,  0.,  0.]])"
      ]
     },
     "execution_count": 7,
     "metadata": {},
     "output_type": "execute_result"
    }
   ],
   "source": [
    "peptides[:, :, 12]"
   ]
  },
  {
   "cell_type": "code",
   "execution_count": 24,
   "metadata": {},
   "outputs": [],
   "source": [
    "input_1 = Input(shape=(11, 31,), name = 'input_1')\n",
    "input_2 = Input(shape=(6,), name = 'input_2')\n",
    "input_3 = Input(shape=(1,), name = 'input_3')\n",
    "\n",
    "x1 = BatchNormalization()(input_1)\n",
    "x1 = Conv1D(16, 3, padding='same', activation = 'elu')(x1)\n",
    "x1 = Conv1D(32, 3, padding='same', activation = 'elu')(x1)\n",
    "x1 = Flatten()(x1)\n",
    "\n",
    "merged = concatenate([x1, input_3], axis=-1)\n",
    "x2 = Dense(16, activation = 'relu')(merged)\n",
    "x2 = Dense(16, activation = 'relu')(x2)\n",
    "predictions = Dense(2, activation='softmax')(x2)\n",
    "\n",
    "model = Model(inputs=[input_1, input_2, input_3], outputs=predictions)"
   ]
  },
  {
   "cell_type": "code",
   "execution_count": 25,
   "metadata": {},
   "outputs": [],
   "source": [
    "model.compile(optimizer=Adam(lr=0.001), loss='categorical_crossentropy', metrics=[auc])"
   ]
  },
  {
   "cell_type": "code",
   "execution_count": 26,
   "metadata": {},
   "outputs": [
    {
     "name": "stdout",
     "output_type": "stream",
     "text": [
      "__________________________________________________________________________________________________\n",
      "Layer (type)                    Output Shape         Param #     Connected to                     \n",
      "==================================================================================================\n",
      "input_1 (InputLayer)            (None, 11, 31)       0                                            \n",
      "__________________________________________________________________________________________________\n",
      "batch_normalization_1 (BatchNor (None, 11, 31)       124         input_1[0][0]                    \n",
      "__________________________________________________________________________________________________\n",
      "conv1d_9 (Conv1D)               (None, 11, 16)       1504        batch_normalization_1[0][0]      \n",
      "__________________________________________________________________________________________________\n",
      "conv1d_10 (Conv1D)              (None, 11, 32)       1568        conv1d_9[0][0]                   \n",
      "__________________________________________________________________________________________________\n",
      "flatten_5 (Flatten)             (None, 352)          0           conv1d_10[0][0]                  \n",
      "__________________________________________________________________________________________________\n",
      "input_3 (InputLayer)            (None, 1)            0                                            \n",
      "__________________________________________________________________________________________________\n",
      "concatenate_4 (Concatenate)     (None, 353)          0           flatten_5[0][0]                  \n",
      "                                                                 input_3[0][0]                    \n",
      "__________________________________________________________________________________________________\n",
      "dense_13 (Dense)                (None, 16)           5664        concatenate_4[0][0]              \n",
      "__________________________________________________________________________________________________\n",
      "dense_14 (Dense)                (None, 16)           272         dense_13[0][0]                   \n",
      "__________________________________________________________________________________________________\n",
      "dense_15 (Dense)                (None, 2)            34          dense_14[0][0]                   \n",
      "==================================================================================================\n",
      "Total params: 9,166\n",
      "Trainable params: 9,104\n",
      "Non-trainable params: 62\n",
      "__________________________________________________________________________________________________\n"
     ]
    }
   ],
   "source": [
    "model.summary()"
   ]
  },
  {
   "cell_type": "code",
   "execution_count": 27,
   "metadata": {},
   "outputs": [
    {
     "name": "stdout",
     "output_type": "stream",
     "text": [
      "Train on 5295 samples, validate on 589 samples\n",
      "Epoch 1/10\n",
      "5295/5295 [==============================] - 3s 514us/step - loss: 2.1639 - auc: 0.5805 - val_loss: 1.3023 - val_auc: 0.7393\n",
      "Epoch 2/10\n",
      "5295/5295 [==============================] - 2s 308us/step - loss: 1.1582 - auc: 0.7643 - val_loss: 1.0147 - val_auc: 0.7799\n",
      "Epoch 3/10\n",
      "5295/5295 [==============================] - 2s 317us/step - loss: 1.1869 - auc: 0.7867 - val_loss: 0.7118 - val_auc: 0.7951\n",
      "Epoch 4/10\n",
      "5295/5295 [==============================] - 2s 313us/step - loss: 1.0787 - auc: 0.8007 - val_loss: 0.6278 - val_auc: 0.8028\n",
      "Epoch 5/10\n",
      "5295/5295 [==============================] - 2s 321us/step - loss: 0.8651 - auc: 0.8067 - val_loss: 1.3833 - val_auc: 0.8091\n",
      "Epoch 6/10\n",
      "5295/5295 [==============================] - 2s 295us/step - loss: 0.9887 - auc: 0.8114 - val_loss: 1.2850 - val_auc: 0.8134\n",
      "Epoch 7/10\n",
      "5295/5295 [==============================] - 2s 300us/step - loss: 0.8965 - auc: 0.8157 - val_loss: 1.2521 - val_auc: 0.8173\n",
      "Epoch 8/10\n",
      "5295/5295 [==============================] - 2s 299us/step - loss: 1.0624 - auc: 0.8195 - val_loss: 1.2943 - val_auc: 0.8209\n",
      "Epoch 9/10\n",
      "5295/5295 [==============================] - 2s 305us/step - loss: 0.9452 - auc: 0.8220 - val_loss: 0.7163 - val_auc: 0.8233\n",
      "Epoch 10/10\n",
      "5295/5295 [==============================] - 2s 324us/step - loss: 0.8357 - auc: 0.8242 - val_loss: 0.6272 - val_auc: 0.8253\n"
     ]
    },
    {
     "data": {
      "text/plain": [
       "<keras.callbacks.History at 0x7faba3c82ac8>"
      ]
     },
     "execution_count": 27,
     "metadata": {},
     "output_type": "execute_result"
    }
   ],
   "source": [
    "model.fit([peptides, mhc, affinity], to_categorical(labels), batch_size=32, validation_split=0.1, epochs=10)"
   ]
  },
  {
   "cell_type": "code",
   "execution_count": null,
   "metadata": {},
   "outputs": [],
   "source": []
  },
  {
   "cell_type": "code",
   "execution_count": null,
   "metadata": {},
   "outputs": [],
   "source": []
  },
  {
   "cell_type": "code",
   "execution_count": null,
   "metadata": {},
   "outputs": [],
   "source": []
  },
  {
   "cell_type": "code",
   "execution_count": 87,
   "metadata": {},
   "outputs": [],
   "source": [
    "main_input = Input(shape=(11, 31,), name = 'main_input')\n",
    "side_input = Input(shape=(6,), name = 'side_input')\n",
    "\n",
    "# Main block for peptides.\n",
    "a = Bidirectional(LSTM(64, return_sequences=True))(main_input)\n",
    "a = Bidirectional(LSTM(32, return_sequences=True))(a)\n",
    "a = TimeDistributed(Dense(32))(a)\n",
    "a = Flatten()(a)\n",
    "a = Dense(32)(a)\n",
    "\n",
    "b = Dense(6)(side_input)\n",
    "\n",
    "merged = concatenate([a, b], axis=-1)\n",
    "\n",
    "c = Dense(32)(merged)\n",
    "\n",
    "predictions = Dense(1, activation='sigmoid')(c)\n",
    "\n",
    "model = Model(inputs=[main_input, side_input], outputs=predictions)"
   ]
  },
  {
   "cell_type": "code",
   "execution_count": 88,
   "metadata": {},
   "outputs": [],
   "source": [
    "model.compile(optimizer='adam',\n",
    "              loss='binary_crossentropy',\n",
    "              metrics=[auc])"
   ]
  },
  {
   "cell_type": "code",
   "execution_count": 89,
   "metadata": {},
   "outputs": [
    {
     "name": "stdout",
     "output_type": "stream",
     "text": [
      "Epoch 1/10\n",
      "5884/5884 [==============================] - 10s 2ms/step - loss: 0.5174 - auc: 0.5438\n",
      "Epoch 2/10\n",
      "5884/5884 [==============================] - 4s 640us/step - loss: 0.4973 - auc: 0.6026\n",
      "Epoch 3/10\n",
      "5884/5884 [==============================] - 4s 635us/step - loss: 0.4939 - auc: 0.6196\n",
      "Epoch 4/10\n",
      "5884/5884 [==============================] - 4s 612us/step - loss: 0.4889 - auc: 0.6295\n",
      "Epoch 5/10\n",
      "5884/5884 [==============================] - 4s 635us/step - loss: 0.4861 - auc: 0.6387\n",
      "Epoch 6/10\n",
      "5884/5884 [==============================] - 4s 665us/step - loss: 0.4843 - auc: 0.6432\n",
      "Epoch 7/10\n",
      "5884/5884 [==============================] - 4s 703us/step - loss: 0.4810 - auc: 0.6496\n",
      "Epoch 8/10\n",
      "5884/5884 [==============================] - 4s 642us/step - loss: 0.4774 - auc: 0.6547\n",
      "Epoch 9/10\n",
      "5884/5884 [==============================] - 4s 631us/step - loss: 0.4772 - auc: 0.6586\n",
      "Epoch 10/10\n",
      "5884/5884 [==============================] - 4s 633us/step - loss: 0.4783 - auc: 0.6615\n"
     ]
    },
    {
     "data": {
      "text/plain": [
       "<keras.callbacks.History at 0x7f6a37cb2c88>"
      ]
     },
     "execution_count": 89,
     "metadata": {},
     "output_type": "execute_result"
    }
   ],
   "source": [
    "model.fit([peptides, mhc], labels, epochs=10)"
   ]
  },
  {
   "cell_type": "code",
   "execution_count": null,
   "metadata": {},
   "outputs": [],
   "source": []
  }
 ],
 "metadata": {
  "kernelspec": {
   "display_name": "Python 3",
   "language": "python",
   "name": "python3"
  }
 },
 "nbformat": 4,
 "nbformat_minor": 2
}
